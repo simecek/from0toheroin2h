{
  "nbformat": 4,
  "nbformat_minor": 0,
  "metadata": {
    "colab": {
      "name": "colab3-dataset_from_Google_Images.ipynb",
      "version": "0.3.2",
      "provenance": [],
      "collapsed_sections": [],
      "toc_visible": true,
      "include_colab_link": true
    },
    "kernelspec": {
      "name": "python3",
      "display_name": "Python 3"
    },
    "accelerator": "GPU"
  },
  "cells": [
    {
      "cell_type": "markdown",
      "metadata": {
        "id": "view-in-github",
        "colab_type": "text"
      },
      "source": [
        "<a href=\"https://colab.research.google.com/github/simecek/from0toheroin2h/blob/master/colab3_dataset_from_Google_Images.ipynb\" target=\"_parent\"><img src=\"https://colab.research.google.com/assets/colab-badge.svg\" alt=\"Open In Colab\"/></a>"
      ]
    },
    {
      "metadata": {
        "hide_input": false,
        "id": "3PspAfmCvY0H",
        "colab_type": "text"
      },
      "cell_type": "markdown",
      "source": [
        "# Creating your own dataset from Google Images\n",
        "\n",
        "*adapted from a notebook by [Francisco Ingham and Jeremy Howard](https://github.com/fastai/course-v3/blob/master/nbs/dl1/lesson2-download.ipynb). Inspired by [Adrian Rosebrock](https://www.pyimagesearch.com/2017/12/04/how-to-create-a-deep-learning-dataset-using-google-images/)*"
      ]
    },
    {
      "metadata": {
        "hide_input": true,
        "id": "ukDEw_2avY0K",
        "colab_type": "text"
      },
      "cell_type": "markdown",
      "source": [
        "In this tutorial we will see how to easily create an image dataset through Google Images. "
      ]
    },
    {
      "metadata": {
        "id": "l8fw9PKNvY0R",
        "colab_type": "text"
      },
      "cell_type": "markdown",
      "source": [
        "## Get a list of URLs\n",
        "\n",
        "**Note**: You will have to repeat these steps for any new category you want to Google (e.g once for dogs and once for cats)."
      ]
    },
    {
      "metadata": {
        "id": "jAYHpdQmvY0S",
        "colab_type": "text"
      },
      "cell_type": "markdown",
      "source": [
        "### Search and scroll"
      ]
    },
    {
      "metadata": {
        "id": "gWX36fXdvY0T",
        "colab_type": "text"
      },
      "cell_type": "markdown",
      "source": [
        "Go to [Google Images](http://images.google.com) and search for the images you are interested in. The more specific you are in your Google Search, the better the results and the less manual pruning you will have to do.\n",
        "\n",
        "Scroll down until you've seen all the images you want to download, or until you see a button that says 'Show more results'. All the images you scrolled past are now available to download. To get more, click on the button, and continue scrolling. The maximum number of images Google Images shows is 700.\n",
        "\n",
        "It is a good idea to put things you want to exclude into the search query, for instance if you are searching for the Eurasian wolf, \"canis lupus lupus\", it might be a good idea to exclude other variants:\n",
        "\n",
        "    \"canis lupus lupus\" -dog -arctos -familiaris -baileyi -occidentalis\n",
        "\n",
        "You can also limit your results to show only photos by clicking on Tools and selecting Photos from the Type dropdown."
      ]
    },
    {
      "metadata": {
        "id": "R_gmX7KAvY0U",
        "colab_type": "text"
      },
      "cell_type": "markdown",
      "source": [
        "### Download into file"
      ]
    },
    {
      "metadata": {
        "id": "La5qHfUUvY0V",
        "colab_type": "text"
      },
      "cell_type": "markdown",
      "source": [
        "Now you must run some Javascript code in your browser which will save the URLs of all the images you want for you dataset.\n",
        "\n",
        "Press `Ctrl`-`Shift`-`J` in Windows/Linux and `Cmd`-`Opt`-`J` in Mac, and a small window the javascript 'Console' will appear. That is where you will paste the JavaScript commands.\n",
        "\n",
        "You will need to get the urls of each of the images. You can do this by running the following commands (you might want to change `urls.txt` to `your_class_name.txt`):\n",
        "\n",
        "```javascript\n",
        "javascript:document.body.innerHTML = `<a href=\"data:text/csv;charset=utf-8,${escape(Array.from(document.querySelectorAll('.rg_di .rg_meta')).map(el=>JSON.parse(el.textContent).ou).join('\\n'))}\" download=\"urls.txt\">download urls</a>`;\n",
        "```"
      ]
    },
    {
      "metadata": {
        "id": "FuCTZrawvY0W",
        "colab_type": "text"
      },
      "cell_type": "markdown",
      "source": [
        "### Upload urls file into your server"
      ]
    },
    {
      "metadata": {
        "id": "aQ9QcqHXvY0X",
        "colab_type": "text"
      },
      "cell_type": "markdown",
      "source": [
        "In the left panel, select `Files`, click on `UPLOAD` and choose your file with urls. Make sure names of your url files are formatted as `your_class_name.txt`."
      ]
    },
    {
      "metadata": {
        "id": "G428HheWvY0y",
        "colab_type": "text"
      },
      "cell_type": "markdown",
      "source": [
        "## Download images"
      ]
    },
    {
      "metadata": {
        "hide_input": false,
        "id": "R5v8fJv6vY0M",
        "colab_type": "code",
        "colab": {}
      },
      "cell_type": "code",
      "source": [
        "from fastai.vision import *\n",
        "import os, shutil"
      ],
      "execution_count": 0,
      "outputs": []
    },
    {
      "metadata": {
        "id": "TPckJ-ev2cb0",
        "colab_type": "text"
      },
      "cell_type": "markdown",
      "source": [
        "First, let us create a list of your classes and check that everything is as it is supposed to be. "
      ]
    },
    {
      "metadata": {
        "id": "d68lp16xvY00",
        "colab_type": "code",
        "colab": {}
      },
      "cell_type": "code",
      "source": [
        "# you need to change classes to your classes\n",
        "classes = ['konvalinka','kopretina','pampeliska']\n",
        "\n",
        "for class_name in classes:\n",
        "  assert os.path.isfile(class_name + '.txt')\n",
        "  "
      ],
      "execution_count": 0,
      "outputs": []
    },
    {
      "metadata": {
        "id": "-OGoykLY3lpd",
        "colab_type": "text"
      },
      "cell_type": "markdown",
      "source": [
        "If everything is ok, create a folder for each class and copy url files into them."
      ]
    },
    {
      "metadata": {
        "id": "MBQZzft530NQ",
        "colab_type": "code",
        "colab": {}
      },
      "cell_type": "code",
      "source": [
        "data_folder = Path('data/')\n",
        "\n",
        "for class_name in classes:\n",
        "  class_folder = data_folder/class_name\n",
        "  class_folder.mkdir(parents=True, exist_ok=True)\n",
        "  shutil.copy(class_name + '.txt', class_folder)\n"
      ],
      "execution_count": 0,
      "outputs": []
    },
    {
      "metadata": {
        "id": "ghgz3Ms9vY0z",
        "colab_type": "text"
      },
      "cell_type": "markdown",
      "source": [
        "Now you will need to download your images from their respective urls.\n",
        "\n",
        "fast.ai has a function that allows you to do just that. You just have to specify the urls filename as well as the destination folder and this function will download and save all images that can be opened. If they have some problem in being opened, they will not be saved.\n",
        "\n",
        "Let's download our images! Notice you can choose a maximum number of images to be downloaded. In this case we will not download all the urls.\n",
        "\n",
        "You will need to run this line once for every category."
      ]
    },
    {
      "metadata": {
        "id": "hN43CasRvY03",
        "colab_type": "code",
        "colab": {}
      },
      "cell_type": "code",
      "source": [
        "for class_folder in classes:\n",
        "    print(class_folder)\n",
        "    file_name = class_folder + \".txt\"\n",
        "    download_images(data_folder/class_folder/file_name, data_folder/class_folder, max_pics=195)"
      ],
      "execution_count": 0,
      "outputs": []
    },
    {
      "metadata": {
        "id": "uNsw8IJYvY0_",
        "colab_type": "text"
      },
      "cell_type": "markdown",
      "source": [
        "Then we can remove any images that can't be opened:"
      ]
    },
    {
      "metadata": {
        "id": "vx1wzXcuvY1A",
        "colab_type": "code",
        "colab": {}
      },
      "cell_type": "code",
      "source": [
        "for class_folder in classes:\n",
        "    print(class_folder)\n",
        "    verify_images(data_folder/class_folder, delete=True, max_size=500)"
      ],
      "execution_count": 0,
      "outputs": []
    },
    {
      "metadata": {
        "id": "oGfkPOqSvY1D",
        "colab_type": "text"
      },
      "cell_type": "markdown",
      "source": [
        "## View data"
      ]
    },
    {
      "metadata": {
        "id": "WQWgtZ7GvY1E",
        "colab_type": "code",
        "colab": {}
      },
      "cell_type": "code",
      "source": [
        "np.random.seed(42)\n",
        "data = ImageDataBunch.from_folder(data_folder, train=\".\", valid_pct=0.2,\n",
        "        ds_tfms=get_transforms(), size=224, num_workers=4).normalize(imagenet_stats)"
      ],
      "execution_count": 0,
      "outputs": []
    },
    {
      "metadata": {
        "id": "dNZg1Zw2vY1H",
        "colab_type": "code",
        "colab": {}
      },
      "cell_type": "code",
      "source": [
        "# If you already cleaned your data, run this cell instead of the one before\n",
        "# np.random.seed(42)\n",
        "# data = ImageDataBunch.from_csv(path, folder=\".\", valid_pct=0.2, csv_labels='cleaned.csv',\n",
        "#         ds_tfms=get_transforms(), size=224, num_workers=4).normalize(imagenet_stats)"
      ],
      "execution_count": 0,
      "outputs": []
    },
    {
      "metadata": {
        "id": "qwv2kjeOvY1P",
        "colab_type": "text"
      },
      "cell_type": "markdown",
      "source": [
        "Good! Let's take a look at some of our pictures then."
      ]
    },
    {
      "metadata": {
        "id": "JKZ34KhsvY1Q",
        "colab_type": "code",
        "colab": {}
      },
      "cell_type": "code",
      "source": [
        "data.classes"
      ],
      "execution_count": 0,
      "outputs": []
    },
    {
      "metadata": {
        "id": "cB00u7bOvY1X",
        "colab_type": "code",
        "colab": {}
      },
      "cell_type": "code",
      "source": [
        "data.show_batch(rows=3, figsize=(7,8))"
      ],
      "execution_count": 0,
      "outputs": []
    },
    {
      "metadata": {
        "id": "lyyQ-WIevY1b",
        "colab_type": "code",
        "colab": {}
      },
      "cell_type": "code",
      "source": [
        "data.classes, data.c, len(data.train_ds), len(data.valid_ds)"
      ],
      "execution_count": 0,
      "outputs": []
    },
    {
      "metadata": {
        "id": "lWuetI62vY1f",
        "colab_type": "text"
      },
      "cell_type": "markdown",
      "source": [
        "## Train model"
      ]
    },
    {
      "metadata": {
        "id": "NEUaOxl0vY1g",
        "colab_type": "code",
        "colab": {}
      },
      "cell_type": "code",
      "source": [
        "learn = cnn_learner(data, models.resnet34, metrics=error_rate)"
      ],
      "execution_count": 0,
      "outputs": []
    },
    {
      "metadata": {
        "id": "0pYu1-ZvvY1k",
        "colab_type": "code",
        "colab": {}
      },
      "cell_type": "code",
      "source": [
        "learn.fit_one_cycle(4)"
      ],
      "execution_count": 0,
      "outputs": []
    },
    {
      "metadata": {
        "id": "46upSo-TvY1m",
        "colab_type": "code",
        "colab": {}
      },
      "cell_type": "code",
      "source": [
        "learn.save('stage-1')"
      ],
      "execution_count": 0,
      "outputs": []
    },
    {
      "metadata": {
        "id": "ScR82vrEvY1o",
        "colab_type": "code",
        "colab": {}
      },
      "cell_type": "code",
      "source": [
        "learn.unfreeze()"
      ],
      "execution_count": 0,
      "outputs": []
    },
    {
      "metadata": {
        "id": "FKaikiP3vY1s",
        "colab_type": "code",
        "colab": {}
      },
      "cell_type": "code",
      "source": [
        "learn.lr_find()"
      ],
      "execution_count": 0,
      "outputs": []
    },
    {
      "metadata": {
        "id": "orPb4yoCvY1u",
        "colab_type": "code",
        "colab": {}
      },
      "cell_type": "code",
      "source": [
        "learn.recorder.plot()"
      ],
      "execution_count": 0,
      "outputs": []
    },
    {
      "metadata": {
        "id": "m3D4bfUfvY1x",
        "colab_type": "code",
        "colab": {}
      },
      "cell_type": "code",
      "source": [
        "learn.fit_one_cycle(2, max_lr=slice(2e-5,2e-3))"
      ],
      "execution_count": 0,
      "outputs": []
    },
    {
      "metadata": {
        "id": "JLOv2zyevY10",
        "colab_type": "code",
        "colab": {}
      },
      "cell_type": "code",
      "source": [
        "learn.save('stage-2')"
      ],
      "execution_count": 0,
      "outputs": []
    },
    {
      "metadata": {
        "id": "VaTtm024vY12",
        "colab_type": "text"
      },
      "cell_type": "markdown",
      "source": [
        "## Interpretation"
      ]
    },
    {
      "metadata": {
        "id": "uiEM9ueGvY14",
        "colab_type": "code",
        "colab": {}
      },
      "cell_type": "code",
      "source": [
        "learn.load('stage-2');"
      ],
      "execution_count": 0,
      "outputs": []
    },
    {
      "metadata": {
        "id": "6kKIBm1hvY16",
        "colab_type": "code",
        "colab": {}
      },
      "cell_type": "code",
      "source": [
        "interp = ClassificationInterpretation.from_learner(learn)"
      ],
      "execution_count": 0,
      "outputs": []
    },
    {
      "metadata": {
        "id": "02kmrYhavY19",
        "colab_type": "code",
        "colab": {}
      },
      "cell_type": "code",
      "source": [
        "interp.plot_confusion_matrix()"
      ],
      "execution_count": 0,
      "outputs": []
    },
    {
      "metadata": {
        "id": "TLslUx4DvY1_",
        "colab_type": "text"
      },
      "cell_type": "markdown",
      "source": [
        "## Cleaning Up - Not Working In Colab\n",
        "\n",
        "Some of our top losses aren't due to bad performance by our model. There are images in our data set that shouldn't be.\n",
        "\n",
        "Using the `ImageCleaner` widget from `fastai.widgets` we can prune our top losses, removing photos that don't belong."
      ]
    },
    {
      "metadata": {
        "id": "OvDobr6xvY2A",
        "colab_type": "code",
        "colab": {}
      },
      "cell_type": "code",
      "source": [
        "from fastai.widgets import *"
      ],
      "execution_count": 0,
      "outputs": []
    },
    {
      "metadata": {
        "id": "9hlhzK9nvY2C",
        "colab_type": "text"
      },
      "cell_type": "markdown",
      "source": [
        "First we need to get the file paths from our top_losses. We can do this with `.from_toplosses`. We then feed the top losses indexes and corresponding dataset to `ImageCleaner`.\n",
        "\n",
        "Notice that the widget will not delete images directly from disk but it will create a new csv file `cleaned.csv` from where you can create a new ImageDataBunch with the corrected labels to continue training your model."
      ]
    },
    {
      "metadata": {
        "id": "Dqt-NkcSvY2C",
        "colab_type": "text"
      },
      "cell_type": "markdown",
      "source": [
        "In order to clean the entire set of images, we need to create a new dataset without the split. The video lecture demostrated the use of the `ds_type` param which no longer has any effect. See [the thread](https://forums.fast.ai/t/duplicate-widget/30975/10) for more details."
      ]
    },
    {
      "metadata": {
        "id": "3EdNAuf1vY2D",
        "colab_type": "code",
        "colab": {}
      },
      "cell_type": "code",
      "source": [
        "db = (ImageList.from_folder(data_folder)\n",
        "                   .no_split()\n",
        "                   .label_from_folder()\n",
        "                   .transform(get_transforms(), size=224)\n",
        "                   .databunch()\n",
        "     )"
      ],
      "execution_count": 0,
      "outputs": []
    },
    {
      "metadata": {
        "id": "cAZ1UoktvY2F",
        "colab_type": "code",
        "colab": {}
      },
      "cell_type": "code",
      "source": [
        "# If you already cleaned your data using indexes from `from_toplosses`,\n",
        "# run this cell instead of the one before to proceed with removing duplicates.\n",
        "# Otherwise all the results of the previous step would be overwritten by\n",
        "# the new run of `ImageCleaner`.\n",
        "\n",
        "# db = (ImageList.from_csv(path, 'cleaned.csv', folder='.')\n",
        "#                    .no_split()\n",
        "#                    .label_from_df()\n",
        "#                    .transform(get_transforms(), size=224)\n",
        "#                    .databunch()\n",
        "#      )"
      ],
      "execution_count": 0,
      "outputs": []
    },
    {
      "metadata": {
        "id": "iP8b84u7vY2G",
        "colab_type": "text"
      },
      "cell_type": "markdown",
      "source": [
        "Then we create a new learner to use our new databunch with all the images."
      ]
    },
    {
      "metadata": {
        "id": "Kt-KX7nLvY2H",
        "colab_type": "code",
        "colab": {}
      },
      "cell_type": "code",
      "source": [
        "learn_cln = cnn_learner(db, models.resnet34, metrics=error_rate)\n",
        "\n",
        "learn_cln.load('stage-2');"
      ],
      "execution_count": 0,
      "outputs": []
    },
    {
      "metadata": {
        "id": "5gkWiP7KvY2K",
        "colab_type": "code",
        "colab": {}
      },
      "cell_type": "code",
      "source": [
        "ds, idxs = DatasetFormatter().from_toplosses(learn_cln)"
      ],
      "execution_count": 0,
      "outputs": []
    },
    {
      "metadata": {
        "id": "1nVDvxcIvY2R",
        "colab_type": "text"
      },
      "cell_type": "markdown",
      "source": [
        "Make sure you're running this notebook in Jupyter Notebook, not Jupyter Lab. That is accessible via [/tree](/tree), not [/lab](/lab). Running the `ImageCleaner` widget in Jupyter Lab or Colab is [not currently supported](https://github.com/fastai/fastai/issues/1539)."
      ]
    },
    {
      "metadata": {
        "id": "OYxel4OgvY2S",
        "colab_type": "code",
        "colab": {}
      },
      "cell_type": "code",
      "source": [
        "# do not run me in colab\n",
        "ImageCleaner(ds, idxs, data_folder)"
      ],
      "execution_count": 0,
      "outputs": []
    },
    {
      "metadata": {
        "id": "SMDgeLcUvY2V",
        "colab_type": "text"
      },
      "cell_type": "markdown",
      "source": [
        "Flag photos for deletion by clicking 'Delete'. Then click 'Next Batch' to delete flagged photos and keep the rest in that row. `ImageCleaner` will show you a new row of images until there are no more to show. In this case, the widget will show you images until there are none left from `top_losses.ImageCleaner(ds, idxs)`"
      ]
    },
    {
      "metadata": {
        "id": "XcSAOtSjvY2W",
        "colab_type": "text"
      },
      "cell_type": "markdown",
      "source": [
        "You can also find duplicates in your dataset and delete them! To do this, you need to run `.from_similars` to get the potential duplicates' ids and then run `ImageCleaner` with `duplicates=True`. The API works in a similar way as with misclassified images: just choose the ones you want to delete and click 'Next Batch' until there are no more images left."
      ]
    },
    {
      "metadata": {
        "id": "5Eb3L5l_vY2Y",
        "colab_type": "text"
      },
      "cell_type": "markdown",
      "source": [
        "Make sure to recreate the databunch and `learn_cln` from the `cleaned.csv` file. Otherwise the file would be overwritten from scratch, loosing all the results from cleaning the data from toplosses."
      ]
    },
    {
      "metadata": {
        "id": "KKslmXZ-vY2Z",
        "colab_type": "code",
        "colab": {}
      },
      "cell_type": "code",
      "source": [
        "ds, idxs = DatasetFormatter().from_similars(learn_cln)"
      ],
      "execution_count": 0,
      "outputs": []
    },
    {
      "metadata": {
        "id": "UYNVrJaKvY2c",
        "colab_type": "code",
        "colab": {}
      },
      "cell_type": "code",
      "source": [
        "# do not run me in Colab\n",
        "ImageCleaner(ds, idxs, path, duplicates=True)"
      ],
      "execution_count": 0,
      "outputs": []
    },
    {
      "metadata": {
        "id": "a1XnBEVlvY2g",
        "colab_type": "text"
      },
      "cell_type": "markdown",
      "source": [
        "Remember to recreate your ImageDataBunch from your `cleaned.csv` to include the changes you made in your data!"
      ]
    },
    {
      "metadata": {
        "id": "C-MN0Y9uKUTq",
        "colab_type": "text"
      },
      "cell_type": "markdown",
      "source": [
        "## Top losses"
      ]
    },
    {
      "metadata": {
        "id": "OfWcQIB2KsCu",
        "colab_type": "code",
        "colab": {}
      },
      "cell_type": "code",
      "source": [
        "interp.plot_top_losses(9, figsize=(15,11), heatmap=False)"
      ],
      "execution_count": 0,
      "outputs": []
    },
    {
      "metadata": {
        "id": "LPMtyN0AvY2y",
        "colab_type": "text"
      },
      "cell_type": "markdown",
      "source": [
        "## Things that can go wrong"
      ]
    },
    {
      "metadata": {
        "id": "mkVcum6hvY2z",
        "colab_type": "text"
      },
      "cell_type": "markdown",
      "source": [
        "- Most of the time things will train fine with the defaults\n",
        "- There's not much you really need to tune (despite what you've heard!)\n",
        "- Most likely are\n",
        "  - Learning rate\n",
        "  - Number of epochs"
      ]
    },
    {
      "metadata": {
        "id": "mlOY2ZWLvY20",
        "colab_type": "text"
      },
      "cell_type": "markdown",
      "source": [
        "### Learning rate (LR) too high"
      ]
    },
    {
      "metadata": {
        "id": "lcOAZXNHvY20",
        "colab_type": "code",
        "colab": {}
      },
      "cell_type": "code",
      "source": [
        "learn = cnn_learner(data, models.resnet34, metrics=error_rate)"
      ],
      "execution_count": 0,
      "outputs": []
    },
    {
      "metadata": {
        "id": "cOljVaxIvY22",
        "colab_type": "code",
        "colab": {}
      },
      "cell_type": "code",
      "source": [
        "learn.fit_one_cycle(1, max_lr=0.5)"
      ],
      "execution_count": 0,
      "outputs": []
    },
    {
      "metadata": {
        "id": "jT7PQho_vY26",
        "colab_type": "text"
      },
      "cell_type": "markdown",
      "source": [
        "### Learning rate (LR) too low"
      ]
    },
    {
      "metadata": {
        "id": "xHrvSyN6vY26",
        "colab_type": "code",
        "colab": {}
      },
      "cell_type": "code",
      "source": [
        "learn = cnn_learner(data, models.resnet34, metrics=error_rate)"
      ],
      "execution_count": 0,
      "outputs": []
    },
    {
      "metadata": {
        "id": "eHd7JWdEvY28",
        "colab_type": "text"
      },
      "cell_type": "markdown",
      "source": [
        "Previously we had this result:\n",
        "\n",
        "```\n",
        "Total time: 00:57\n",
        "epoch  train_loss  valid_loss  error_rate\n",
        "1      1.030236    0.179226    0.028369    (00:14)\n",
        "2      0.561508    0.055464    0.014184    (00:13)\n",
        "3      0.396103    0.053801    0.014184    (00:13)\n",
        "4      0.316883    0.050197    0.021277    (00:15)\n",
        "```"
      ]
    },
    {
      "metadata": {
        "id": "RflXvYssvY29",
        "colab_type": "code",
        "colab": {}
      },
      "cell_type": "code",
      "source": [
        "learn.fit_one_cycle(5, max_lr=1e-5)"
      ],
      "execution_count": 0,
      "outputs": []
    },
    {
      "metadata": {
        "id": "TH7rUETAvY3B",
        "colab_type": "code",
        "colab": {}
      },
      "cell_type": "code",
      "source": [
        "learn.recorder.plot_losses()"
      ],
      "execution_count": 0,
      "outputs": []
    },
    {
      "metadata": {
        "id": "Cs8QMB3evY3D",
        "colab_type": "text"
      },
      "cell_type": "markdown",
      "source": [
        "As well as taking a really long time, it's getting too many looks at each image, so may overfit."
      ]
    },
    {
      "metadata": {
        "id": "KeU75ZlXvY3E",
        "colab_type": "text"
      },
      "cell_type": "markdown",
      "source": [
        "### Too few epochs"
      ]
    },
    {
      "metadata": {
        "id": "RjodtYZ4vY3E",
        "colab_type": "code",
        "colab": {}
      },
      "cell_type": "code",
      "source": [
        "learn = cnn_learner(data, models.resnet34, metrics=error_rate, pretrained=False)"
      ],
      "execution_count": 0,
      "outputs": []
    },
    {
      "metadata": {
        "id": "BadMQ4apvY3H",
        "colab_type": "code",
        "colab": {}
      },
      "cell_type": "code",
      "source": [
        "learn.fit_one_cycle(1)"
      ],
      "execution_count": 0,
      "outputs": []
    },
    {
      "metadata": {
        "id": "HnpE2KxwvY3J",
        "colab_type": "text"
      },
      "cell_type": "markdown",
      "source": [
        "### Too many epochs"
      ]
    },
    {
      "metadata": {
        "id": "80-SyRkXvY3J",
        "colab_type": "code",
        "colab": {}
      },
      "cell_type": "code",
      "source": [
        "np.random.seed(42)\n",
        "data = ImageDataBunch.from_folder(path, train=\".\", valid_pct=0.9, bs=32, \n",
        "        ds_tfms=get_transforms(do_flip=False, max_rotate=0, max_zoom=1, max_lighting=0, max_warp=0\n",
        "                              ),size=224, num_workers=4).normalize(imagenet_stats)"
      ],
      "execution_count": 0,
      "outputs": []
    },
    {
      "metadata": {
        "id": "xYWGNh4wvY3L",
        "colab_type": "code",
        "colab": {}
      },
      "cell_type": "code",
      "source": [
        "learn = cnn_learner(data, models.resnet50, metrics=error_rate, ps=0, wd=0)\n",
        "learn.unfreeze()"
      ],
      "execution_count": 0,
      "outputs": []
    },
    {
      "metadata": {
        "id": "AKoGYm8HvY3M",
        "colab_type": "code",
        "colab": {}
      },
      "cell_type": "code",
      "source": [
        "learn.fit_one_cycle(40, slice(1e-6,1e-4))"
      ],
      "execution_count": 0,
      "outputs": []
    },
    {
      "metadata": {
        "id": "QX05wqS4vY2h",
        "colab_type": "text"
      },
      "cell_type": "markdown",
      "source": [
        "## Putting your model in production"
      ]
    },
    {
      "metadata": {
        "id": "1Mff_XdivY2i",
        "colab_type": "text"
      },
      "cell_type": "markdown",
      "source": [
        "First thing first, let's export the content of our `Learner` object for production:"
      ]
    },
    {
      "metadata": {
        "id": "umcscfR9vY2i",
        "colab_type": "code",
        "colab": {}
      },
      "cell_type": "code",
      "source": [
        "learn.export()"
      ],
      "execution_count": 0,
      "outputs": []
    },
    {
      "metadata": {
        "id": "LHy9FgvEvY2k",
        "colab_type": "text"
      },
      "cell_type": "markdown",
      "source": [
        "This will create a file named 'export.pkl' in the directory where we were working that contains everything we need to deploy our model (the model, the weights but also some metadata like the classes or the transforms/normalization used)."
      ]
    },
    {
      "metadata": {
        "id": "pPfSmeikvY2l",
        "colab_type": "text"
      },
      "cell_type": "markdown",
      "source": [
        "You probably want to use CPU for inference, except at massive scale (and you almost certainly don't need to train in real-time). If you don't have a GPU that happens automatically. You can test your model on CPU like so:"
      ]
    },
    {
      "metadata": {
        "id": "bzJ6EqHNvY2l",
        "colab_type": "code",
        "colab": {}
      },
      "cell_type": "code",
      "source": [
        "defaults.device = torch.device('cpu')"
      ],
      "execution_count": 0,
      "outputs": []
    },
    {
      "metadata": {
        "id": "TK24p-eqvY2n",
        "colab_type": "code",
        "colab": {}
      },
      "cell_type": "code",
      "source": [
        "img = open_image(path/'black'/'00000021.jpg')\n",
        "img"
      ],
      "execution_count": 0,
      "outputs": []
    },
    {
      "metadata": {
        "id": "AJkUk1ISvY2r",
        "colab_type": "text"
      },
      "cell_type": "markdown",
      "source": [
        "We create our `Learner` in production enviromnent like this, just make sure that `path` contains the file 'export.pkl' from before."
      ]
    },
    {
      "metadata": {
        "id": "a7b4d5qmvY2t",
        "colab_type": "code",
        "colab": {}
      },
      "cell_type": "code",
      "source": [
        "learn = load_learner(path)"
      ],
      "execution_count": 0,
      "outputs": []
    },
    {
      "metadata": {
        "id": "K6fvc745vY2v",
        "colab_type": "code",
        "colab": {}
      },
      "cell_type": "code",
      "source": [
        "pred_class,pred_idx,outputs = learn.predict(img)\n",
        "pred_class"
      ],
      "execution_count": 0,
      "outputs": []
    },
    {
      "metadata": {
        "id": "dbglLc0QvY2x",
        "colab_type": "text"
      },
      "cell_type": "markdown",
      "source": [
        "For more information about putting your model into production, see [fast.ai webpage](https://course.fast.ai/deployment_render.html)."
      ]
    }
  ]
}