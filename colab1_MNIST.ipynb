{
  "nbformat": 4,
  "nbformat_minor": 0,
  "metadata": {
    "colab": {
      "name": "colab1_MNIST.ipynb",
      "version": "0.3.2",
      "provenance": [],
      "collapsed_sections": [],
      "include_colab_link": true
    },
    "kernelspec": {
      "name": "python3",
      "display_name": "Python 3"
    },
    "accelerator": "GPU"
  },
  "cells": [
    {
      "cell_type": "markdown",
      "metadata": {
        "id": "view-in-github",
        "colab_type": "text"
      },
      "source": [
        "<a href=\"https://colab.research.google.com/github/simecek/from0toheroin2h/blob/master/colab1_MNIST.ipynb\" target=\"_parent\"><img src=\"https://colab.research.google.com/assets/colab-badge.svg\" alt=\"Open In Colab\"/></a>"
      ]
    },
    {
      "metadata": {
        "id": "Di7WDFcEXzUO",
        "colab_type": "text"
      },
      "cell_type": "markdown",
      "source": [
        "# Hello MNIST!\n",
        "\n",
        "In this notebook, you'll learn how to train an image classifier train on the MNIST dataset - the \"hello world\" of computer vision. You'll go through all the steps, including loading the data, building and training a model.\n",
        "\n",
        "\n"
      ]
    },
    {
      "metadata": {
        "id": "AgZbDzO2Lu_S",
        "colab_type": "text"
      },
      "cell_type": "markdown",
      "source": [
        "When working in Google Colabobotatory (colab for short), you need first to set up your runtime (from menu select Runtime/Change runtime type) to use GPU as follows:\n",
        "\n",
        "![alt text](https://camo.githubusercontent.com/35dd980cc32baea8bf2a369a31ad540cadc64d0b/68747470733a2f2f636f757273652e666173742e61692f696d616765732f636f6c61622f30342e706e67)\n"
      ]
    },
    {
      "metadata": {
        "id": "FkInZP-pHvZp",
        "colab_type": "text"
      },
      "cell_type": "markdown",
      "source": [
        "Next configure your notebook instance and download the MNIST dataset."
      ]
    },
    {
      "metadata": {
        "id": "OKz-Xrfq-FsZ",
        "colab_type": "code",
        "outputId": "e18a10ba-dcd4-4e2b-dccc-dbc261a33843",
        "colab": {
          "base_uri": "https://localhost:8080/",
          "height": 238
        }
      },
      "cell_type": "code",
      "source": [
        "  !curl -s https://course.fast.ai/setup/colab | bash\n",
        "  !wget http://deeplearning.net/data/mnist/mnist.pkl.gz"
      ],
      "execution_count": 1,
      "outputs": [
        {
          "output_type": "stream",
          "text": [
            "Updating fastai...\n",
            "Done.\n",
            "--2019-04-08 10:47:30--  http://deeplearning.net/data/mnist/mnist.pkl.gz\n",
            "Resolving deeplearning.net (deeplearning.net)... 132.204.26.28\n",
            "Connecting to deeplearning.net (deeplearning.net)|132.204.26.28|:80... connected.\n",
            "HTTP request sent, awaiting response... 200 OK\n",
            "Length: 16168813 (15M) [application/x-gzip]\n",
            "Saving to: ‘mnist.pkl.gz.1’\n",
            "\n",
            "mnist.pkl.gz.1      100%[===================>]  15.42M  4.01MB/s    in 5.5s    \n",
            "\n",
            "2019-04-08 10:47:36 (2.83 MB/s) - ‘mnist.pkl.gz.1’ saved [16168813/16168813]\n",
            "\n"
          ],
          "name": "stdout"
        }
      ]
    },
    {
      "metadata": {
        "id": "eqINBXaHIGMc",
        "colab_type": "text"
      },
      "cell_type": "markdown",
      "source": [
        "Load necessary packages:\n",
        "\n",
        "We are going to work with the [fastai V1 library](http://www.fast.ai/2018/10/02/fastai-ai/) which sits on top of [Pytorch 1.0](https://hackernoon.com/pytorch-1-0-468332ba5163). The fastai library provides many useful functions that enable us to quickly and easily build neural networks and train our models."
      ]
    },
    {
      "metadata": {
        "id": "YN-Y3AlP-ZDY",
        "colab_type": "code",
        "colab": {}
      },
      "cell_type": "code",
      "source": [
        "%matplotlib inline\n",
        "from fastai.basics import *\n",
        "import random"
      ],
      "execution_count": 0,
      "outputs": []
    },
    {
      "metadata": {
        "id": "LJg-clT5ZC81",
        "colab_type": "text"
      },
      "cell_type": "markdown",
      "source": [
        "## Step 1) Load the dataset\n",
        "\n",
        "The MNIST dataset contains thousands of grayscale images of handwritten digits. There are ten distinct categories, coresponding to numbers 0 - 9."
      ]
    },
    {
      "metadata": {
        "id": "HUfg6y5u-0nM",
        "colab_type": "code",
        "colab": {}
      },
      "cell_type": "code",
      "source": [
        "with gzip.open('mnist.pkl.gz', 'rb') as f:\n",
        "    ((x_train, y_train), (x_valid, y_valid), _) = pickle.load(f, encoding='latin-1')"
      ],
      "execution_count": 0,
      "outputs": []
    },
    {
      "metadata": {
        "id": "OiKB1PrHyPWh",
        "colab_type": "code",
        "outputId": "75c260e5-4dd1-42ad-8b84-3124f7500f26",
        "colab": {
          "base_uri": "https://localhost:8080/",
          "height": 34
        }
      },
      "cell_type": "code",
      "source": [
        "# change arrays into tensors:\n",
        "x_train, y_train, x_valid, y_valid = map(torch.tensor, (x_train, y_train, x_valid, y_valid))\n",
        "x_train.shape, y_train.min(), y_train.max()"
      ],
      "execution_count": 4,
      "outputs": [
        {
          "output_type": "execute_result",
          "data": {
            "text/plain": [
              "(torch.Size([50000, 784]), tensor(0), tensor(9))"
            ]
          },
          "metadata": {
            "tags": []
          },
          "execution_count": 4
        }
      ]
    },
    {
      "metadata": {
        "id": "VMfMkmsWKIWV",
        "colab_type": "text"
      },
      "cell_type": "markdown",
      "source": [
        "The input data are flattened to fit into the first layer of our neural network.\n",
        "Instead of several 28x28 images, we  have several vectors that are all length 784 (28*28=784).  \n",
        "\n",
        "We are going to feed the dataset into our network in mini batches of size 64 as the dataset is too big to be used all at once. By calling DataBunch.create  we are going to create data loaders which will give us a mini batch of data.  The training set gets randomly shuffled and the data is put on the GPU.\n"
      ]
    },
    {
      "metadata": {
        "id": "4txXFoqS00g5",
        "colab_type": "code",
        "colab": {}
      },
      "cell_type": "code",
      "source": [
        "bs=64\n",
        "train_ds = TensorDataset(x_train, y_train) # grab two tensors and create a dataset\n",
        "valid_ds = TensorDataset(x_valid, y_valid)\n",
        "data = DataBunch.create(train_ds, valid_ds, bs=bs) # data object to feed into NN"
      ],
      "execution_count": 0,
      "outputs": []
    },
    {
      "metadata": {
        "id": "1Xh43ZrkaRR3",
        "colab_type": "text"
      },
      "cell_type": "markdown",
      "source": [
        "Let's check a mini batch you'll get from the train data loader:"
      ]
    },
    {
      "metadata": {
        "id": "FkTdVbjL025g",
        "colab_type": "code",
        "outputId": "749ff94a-f355-47d3-fefc-39a22ca6409a",
        "colab": {
          "base_uri": "https://localhost:8080/",
          "height": 34
        }
      },
      "cell_type": "code",
      "source": [
        "x,y = next(iter(data.train_dl))\n",
        "x.shape,y.shape"
      ],
      "execution_count": 6,
      "outputs": [
        {
          "output_type": "execute_result",
          "data": {
            "text/plain": [
              "(torch.Size([64, 784]), torch.Size([64]))"
            ]
          },
          "metadata": {
            "tags": []
          },
          "execution_count": 6
        }
      ]
    },
    {
      "metadata": {
        "id": "cBPjRbgHbUYE",
        "colab_type": "text"
      },
      "cell_type": "markdown",
      "source": [
        "## Step 2) Visualize the data\n",
        "\n",
        "Show a random sample of the dataset along with it's corresponding labels:\n"
      ]
    },
    {
      "metadata": {
        "id": "iYO_SSjpCMyN",
        "colab_type": "code",
        "colab": {}
      },
      "cell_type": "code",
      "source": [
        "indices = random.sample(range(50000),9)"
      ],
      "execution_count": 0,
      "outputs": []
    },
    {
      "metadata": {
        "id": "618ZVdEZCOMu",
        "colab_type": "code",
        "outputId": "e72afc7f-22b6-43c6-bc82-e8cf6c537721",
        "colab": {
          "base_uri": "https://localhost:8080/",
          "height": 280
        }
      },
      "cell_type": "code",
      "source": [
        "fig = plt.figure()\n",
        "for i, ind in enumerate(indices):\n",
        "  plt.subplot(3,3,i+1)\n",
        "  plt.tight_layout()\n",
        "  plt.imshow(x_train[ind].reshape((28,28)), cmap='gray', interpolation='none')\n",
        "  plt.title(\"Label: {}\".format(y_train[ind]))\n",
        "  plt.xticks([])\n",
        "  plt.yticks([])"
      ],
      "execution_count": 8,
      "outputs": [
        {
          "output_type": "display_data",
          "data": {
            "image/png": "[encoded data removed]",
            "text/plain": [
              "<Figure size 432x288 with 9 Axes>"
            ]
          },
          "metadata": {
            "tags": []
          }
        }
      ]
    },
    {
      "metadata": {
        "id": "8CBR8fR2cIf6",
        "colab_type": "text"
      },
      "cell_type": "markdown",
      "source": [
        "## Step 3) Build the model\n",
        "\n",
        "Architecture wise, we'll use a single layer network. All layers are Linear - the classic fully-connected neural network layers.\n",
        "* The hidden layer will have 512 units using the ReLU activation function.\n",
        "* The output layer will have 10 units, corresponding to the 10 digits, and use softmax function.\n",
        "\n",
        "The general convention for Pytorch network classes is that you create all your layers in the constructor, and then lay out their relationship in the forward() method.  \n"
      ]
    },
    {
      "metadata": {
        "id": "BOEbfyVo_AdO",
        "colab_type": "code",
        "colab": {}
      },
      "cell_type": "code",
      "source": [
        "class Net(nn.Module):\n",
        "    def __init__(self, image_size):\n",
        "        super(Net, self).__init__()\n",
        "        self.image_size = image_size\n",
        "        self.fc1 = nn.Linear(image_size, 512)\n",
        "        self.fc2 = nn.Linear(512, 10)\n",
        "\n",
        "    def forward(self, x):\n",
        "        x = F.relu(self.fc1(x))\n",
        "        x = F.log_softmax(self.fc2(x), dim =1)\n",
        "        return x\n"
      ],
      "execution_count": 0,
      "outputs": []
    },
    {
      "metadata": {
        "id": "npPWPT-Hdpru",
        "colab_type": "text"
      },
      "cell_type": "markdown",
      "source": [
        "Here you can check what's inside a created model:"
      ]
    },
    {
      "metadata": {
        "id": "h1IC5mRwdGE9",
        "colab_type": "code",
        "colab": {
          "base_uri": "https://localhost:8080/",
          "height": 85
        },
        "outputId": "db101bba-995b-45d0-c372-3fac8cdcbb0e"
      },
      "cell_type": "code",
      "source": [
        "model = Net(image_size=28*28)\n",
        "model"
      ],
      "execution_count": 10,
      "outputs": [
        {
          "output_type": "execute_result",
          "data": {
            "text/plain": [
              "Net(\n",
              "  (fc1): Linear(in_features=784, out_features=512, bias=True)\n",
              "  (fc2): Linear(in_features=512, out_features=10, bias=True)\n",
              ")"
            ]
          },
          "metadata": {
            "tags": []
          },
          "execution_count": 10
        }
      ]
    },
    {
      "metadata": {
        "id": "GPURsBLwfC-H",
        "colab_type": "text"
      },
      "cell_type": "markdown",
      "source": [
        "The model.parameters() contains our weight and bias matrices:"
      ]
    },
    {
      "metadata": {
        "id": "NQ9PRs_WeBcv",
        "colab_type": "code",
        "colab": {
          "base_uri": "https://localhost:8080/",
          "height": 85
        },
        "outputId": "36021751-32a3-4a28-c523-320aaa83ea82"
      },
      "cell_type": "code",
      "source": [
        "[p.shape for p in model.parameters()]"
      ],
      "execution_count": 11,
      "outputs": [
        {
          "output_type": "execute_result",
          "data": {
            "text/plain": [
              "[torch.Size([512, 784]),\n",
              " torch.Size([512]),\n",
              " torch.Size([10, 512]),\n",
              " torch.Size([10])]"
            ]
          },
          "metadata": {
            "tags": []
          },
          "execution_count": 11
        }
      ]
    },
    {
      "metadata": {
        "id": "d5yXTbCrgzH2",
        "colab_type": "text"
      },
      "cell_type": "markdown",
      "source": [
        "## Step 4) Training\n"
      ]
    },
    {
      "metadata": {
        "id": "Ts9pWEq81AXY",
        "colab_type": "code",
        "colab": {}
      },
      "cell_type": "code",
      "source": [
        "lr=2e-2"
      ],
      "execution_count": 0,
      "outputs": []
    },
    {
      "metadata": {
        "id": "XDvNwElV1B4H",
        "colab_type": "code",
        "colab": {}
      },
      "cell_type": "code",
      "source": [
        "loss_func = nn.CrossEntropyLoss()"
      ],
      "execution_count": 0,
      "outputs": []
    },
    {
      "metadata": {
        "id": "PH3CS9QNgg-O",
        "colab_type": "text"
      },
      "cell_type": "markdown",
      "source": [
        "Rather then setting up the model optimization in Pytorch, we are going to use fastai's Learner object. (By default, it uses the Adam optimizer.)"
      ]
    },
    {
      "metadata": {
        "id": "8BHcfUh7t-Hj",
        "colab_type": "code",
        "colab": {}
      },
      "cell_type": "code",
      "source": [
        "learn = Learner(data, Net(image_size=28*28), loss_func=loss_func, metrics=accuracy)\n"
      ],
      "execution_count": 0,
      "outputs": []
    },
    {
      "metadata": {
        "id": "tDgYL0LxiEl2",
        "colab_type": "text"
      },
      "cell_type": "markdown",
      "source": [
        "We are going to use learn.fit_one_cycle() because it let us train our network faster."
      ]
    },
    {
      "metadata": {
        "id": "zIisfXh71SYb",
        "colab_type": "code",
        "outputId": "fcb76f63-42a0-45ce-8a34-caddc40fa340",
        "colab": {
          "base_uri": "https://localhost:8080/",
          "height": 165
        }
      },
      "cell_type": "code",
      "source": [
        "learn.fit_one_cycle(3, 1e-2)"
      ],
      "execution_count": 15,
      "outputs": [
        {
          "output_type": "display_data",
          "data": {
            "text/html": [
              "Total time: 00:14 <p><table border=\"1\" class=\"dataframe\">\n",
              "  <thead>\n",
              "    <tr style=\"text-align: left;\">\n",
              "      <th>epoch</th>\n",
              "      <th>train_loss</th>\n",
              "      <th>valid_loss</th>\n",
              "      <th>accuracy</th>\n",
              "      <th>time</th>\n",
              "    </tr>\n",
              "  </thead>\n",
              "  <tbody>\n",
              "    <tr>\n",
              "      <td>0</td>\n",
              "      <td>0.214856</td>\n",
              "      <td>0.173976</td>\n",
              "      <td>0.952900</td>\n",
              "      <td>00:04</td>\n",
              "    </tr>\n",
              "    <tr>\n",
              "      <td>1</td>\n",
              "      <td>0.099367</td>\n",
              "      <td>0.108278</td>\n",
              "      <td>0.970800</td>\n",
              "      <td>00:04</td>\n",
              "    </tr>\n",
              "    <tr>\n",
              "      <td>2</td>\n",
              "      <td>0.037567</td>\n",
              "      <td>0.074677</td>\n",
              "      <td>0.978800</td>\n",
              "      <td>00:04</td>\n",
              "    </tr>\n",
              "  </tbody>\n",
              "</table>"
            ],
            "text/plain": [
              "<IPython.core.display.HTML object>"
            ]
          },
          "metadata": {
            "tags": []
          }
        }
      ]
    },
    {
      "metadata": {
        "id": "8SCyALuz6GlP",
        "colab_type": "code",
        "outputId": "c5d3c23b-e732-40d1-b4d9-6d2a44ed1099",
        "colab": {
          "base_uri": "https://localhost:8080/",
          "height": 279
        }
      },
      "cell_type": "code",
      "source": [
        "learn.recorder.plot_losses()"
      ],
      "execution_count": 16,
      "outputs": [
        {
          "output_type": "display_data",
          "data": {
            "image/png": "[encoded data removed]",
            "text/plain": [
              "<Figure size 432x288 with 1 Axes>"
            ]
          },
          "metadata": {
            "tags": []
          }
        }
      ]
    },
    {
      "metadata": {
        "id": "qN2ukam5hajR",
        "colab_type": "text"
      },
      "cell_type": "markdown",
      "source": [
        "If you are interested what learn.fit_one_cycle() does, check the original [Leslie Smith's paper.](https://arxiv.org/abs/1803.09820)"
      ]
    },
    {
      "metadata": {
        "id": "akw2pBsihXEl",
        "colab_type": "code",
        "colab": {
          "base_uri": "https://localhost:8080/",
          "height": 279
        },
        "outputId": "1723adf2-20e2-4e8c-e85f-0e837330c5d5"
      },
      "cell_type": "code",
      "source": [
        "learn.recorder.plot_lr(show_moms=True)"
      ],
      "execution_count": 17,
      "outputs": [
        {
          "output_type": "display_data",
          "data": {
            "image/png": "[encoded data removed]",
            "text/plain": [
              "<Figure size 864x288 with 2 Axes>"
            ]
          },
          "metadata": {
            "tags": []
          }
        }
      ]
    }
  ]
}