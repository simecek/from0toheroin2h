{
  "nbformat": 4,
  "nbformat_minor": 0,
  "metadata": {
    "colab": {
      "name": "colab1_MNIST.ipynb",
      "version": "0.3.2",
      "provenance": [],
      "collapsed_sections": [],
      "include_colab_link": true
    },
    "kernelspec": {
      "name": "python3",
      "display_name": "Python 3"
    },
    "accelerator": "GPU"
  },
  "cells": [
    {
      "cell_type": "markdown",
      "metadata": {
        "id": "view-in-github",
        "colab_type": "text"
      },
      "source": [
        "<a href=\"https://colab.research.google.com/github/simecek/from0toheroin2h/blob/master/colab1_MNIST.ipynb\" target=\"_parent\"><img src=\"https://colab.research.google.com/assets/colab-badge.svg\" alt=\"Open In Colab\"/></a>"
      ]
    },
    {
      "metadata": {
        "id": "Di7WDFcEXzUO",
        "colab_type": "text"
      },
      "cell_type": "markdown",
      "source": [
        "# Hello MNIST!\n",
        "\n",
        "In this notebook, you'll learn how to train an image classifier train on the MNIST dataset - the \"hello world\" of computer vision. You'll go through all the steps, including loading the data, building and training a model.\n",
        "\n",
        "\n"
      ]
    },
    {
      "metadata": {
        "id": "AgZbDzO2Lu_S",
        "colab_type": "text"
      },
      "cell_type": "markdown",
      "source": [
        "When working in Google Colabobotatory (colab for short), you need first to set up your runtime (from menu select Runtime/Change runtime type) to use GPU as follows:\n",
        "\n",
        "![alt text](https://camo.githubusercontent.com/35dd980cc32baea8bf2a369a31ad540cadc64d0b/68747470733a2f2f636f757273652e666173742e61692f696d616765732f636f6c61622f30342e706e67)\n"
      ]
    },
    {
      "metadata": {
        "id": "FkInZP-pHvZp",
        "colab_type": "text"
      },
      "cell_type": "markdown",
      "source": [
        "Next configure your notebook instance and download the MNIST dataset."
      ]
    },
    {
      "metadata": {
        "id": "OKz-Xrfq-FsZ",
        "colab_type": "code",
        "outputId": "ebbb867c-a6c4-4ed4-96e1-49abd9eeab38",
        "colab": {
          "base_uri": "https://localhost:8080/",
          "height": 238
        }
      },
      "cell_type": "code",
      "source": [
        "  !curl -s https://course.fast.ai/setup/colab | bash\n",
        "  !wget http://deeplearning.net/data/mnist/mnist.pkl.gz"
      ],
      "execution_count": 0,
      "outputs": [
        {
          "output_type": "stream",
          "text": [
            "Updating fastai...\n",
            "Done.\n",
            "--2019-04-07 17:43:59--  http://deeplearning.net/data/mnist/mnist.pkl.gz\n",
            "Resolving deeplearning.net (deeplearning.net)... 132.204.26.28\n",
            "Connecting to deeplearning.net (deeplearning.net)|132.204.26.28|:80... connected.\n",
            "HTTP request sent, awaiting response... 200 OK\n",
            "Length: 16168813 (15M) [application/x-gzip]\n",
            "Saving to: ‘mnist.pkl.gz.2’\n",
            "\n",
            "mnist.pkl.gz.2      100%[===================>]  15.42M  20.4MB/s    in 0.8s    \n",
            "\n",
            "2019-04-07 17:43:59 (20.4 MB/s) - ‘mnist.pkl.gz.2’ saved [16168813/16168813]\n",
            "\n"
          ],
          "name": "stdout"
        }
      ]
    },
    {
      "metadata": {
        "id": "eqINBXaHIGMc",
        "colab_type": "text"
      },
      "cell_type": "markdown",
      "source": [
        "Load necessary packages:"
      ]
    },
    {
      "metadata": {
        "id": "YN-Y3AlP-ZDY",
        "colab_type": "code",
        "colab": {}
      },
      "cell_type": "code",
      "source": [
        "%matplotlib inline\n",
        "from fastai.basics import *\n",
        "import random"
      ],
      "execution_count": 0,
      "outputs": []
    },
    {
      "metadata": {
        "id": "LJg-clT5ZC81",
        "colab_type": "text"
      },
      "cell_type": "markdown",
      "source": [
        "## Step 1) Load the dataset\n",
        "\n",
        "The MNIST dataset contains thousands of grayscale images of handwritten digits."
      ]
    },
    {
      "metadata": {
        "id": "HUfg6y5u-0nM",
        "colab_type": "code",
        "colab": {}
      },
      "cell_type": "code",
      "source": [
        "with gzip.open('mnist.pkl.gz', 'rb') as f:\n",
        "    ((x_train, y_train), (x_valid, y_valid), _) = pickle.load(f, encoding='latin-1')"
      ],
      "execution_count": 0,
      "outputs": []
    },
    {
      "metadata": {
        "id": "OiKB1PrHyPWh",
        "colab_type": "code",
        "outputId": "69abf6e0-8203-4bb6-81ed-4617b260af71",
        "colab": {
          "base_uri": "https://localhost:8080/",
          "height": 34
        }
      },
      "cell_type": "code",
      "source": [
        "x_train, y_train, x_valid, y_valid = map(torch.tensor, (x_train, y_train, x_valid, y_valid))\n",
        "x_train.shape, y_train.min(), y_train.max()"
      ],
      "execution_count": 0,
      "outputs": [
        {
          "output_type": "execute_result",
          "data": {
            "text/plain": [
              "(torch.Size([50000, 784]), tensor(0), tensor(9))"
            ]
          },
          "metadata": {
            "tags": []
          },
          "execution_count": 4
        }
      ]
    },
    {
      "metadata": {
        "id": "VMfMkmsWKIWV",
        "colab_type": "text"
      },
      "cell_type": "markdown",
      "source": [
        "The input data are flattened to fit into the first layer of our neural network.\n",
        "Instead of several 28x28 images, we  have several vectors that are all length 784 (28*28=784).  "
      ]
    },
    {
      "metadata": {
        "id": "4txXFoqS00g5",
        "colab_type": "code",
        "colab": {}
      },
      "cell_type": "code",
      "source": [
        "bs=64\n",
        "train_ds = TensorDataset(x_train, y_train)\n",
        "valid_ds = TensorDataset(x_valid, y_valid)\n",
        "data = DataBunch.create(train_ds, valid_ds, bs=bs) # data object to feed into NN"
      ],
      "execution_count": 0,
      "outputs": []
    },
    {
      "metadata": {
        "id": "FkTdVbjL025g",
        "colab_type": "code",
        "outputId": "f4dc23c5-3885-4f73-c109-575536de345f",
        "colab": {
          "base_uri": "https://localhost:8080/",
          "height": 34
        }
      },
      "cell_type": "code",
      "source": [
        "x,y = next(iter(data.train_dl))\n",
        "x.shape,y.shape"
      ],
      "execution_count": 0,
      "outputs": [
        {
          "output_type": "execute_result",
          "data": {
            "text/plain": [
              "(torch.Size([64, 784]), torch.Size([64]))"
            ]
          },
          "metadata": {
            "tags": []
          },
          "execution_count": 6
        }
      ]
    },
    {
      "metadata": {
        "id": "cBPjRbgHbUYE",
        "colab_type": "text"
      },
      "cell_type": "markdown",
      "source": [
        "## Step 2) Visualize the data\n",
        "\n",
        "Show a random sample of the dataset along with it's corresponding labels:\n"
      ]
    },
    {
      "metadata": {
        "id": "iYO_SSjpCMyN",
        "colab_type": "code",
        "colab": {}
      },
      "cell_type": "code",
      "source": [
        "indices = random.sample(range(50000),9)"
      ],
      "execution_count": 0,
      "outputs": []
    },
    {
      "metadata": {
        "id": "618ZVdEZCOMu",
        "colab_type": "code",
        "outputId": "94e0e51a-a07d-486b-9b48-7de2c64dbbf9",
        "colab": {
          "base_uri": "https://localhost:8080/",
          "height": 280
        }
      },
      "cell_type": "code",
      "source": [
        "fig = plt.figure()\n",
        "for i, ind in enumerate(indices):\n",
        "  plt.subplot(3,3,i+1)\n",
        "  plt.tight_layout()\n",
        "  plt.imshow(x_train[ind].reshape((28,28)), cmap='gray', interpolation='none')\n",
        "  plt.title(\"Label: {}\".format(y_train[ind]))\n",
        "  plt.xticks([])\n",
        "  plt.yticks([])"
      ],
      "execution_count": 0,
      "outputs": [
        {
          "output_type": "display_data",
          "data": {
            "image/png": "[encoded data removed]",
            "text/plain": [
              "<Figure size 432x288 with 9 Axes>"
            ]
          },
          "metadata": {
            "tags": []
          }
        }
      ]
    },
    {
      "metadata": {
        "id": "8CBR8fR2cIf6",
        "colab_type": "text"
      },
      "cell_type": "markdown",
      "source": [
        "## Step 3) Build the model\n",
        "\n",
        "Architecture wise, we'll use a single layer network. All layers are Linear - the classic fully-connected neural network layers.\n",
        "* The hidden layer will have 512 units using the ReLU activation function.\n",
        "* The output layer will have 10 units, corresponding to the 10 digits, and use softmax function.\n",
        "\n",
        "The general convention for Pytorch network classes is that you create all your layers in the constructor, and then lay out their relationship in the forward() method.  \n"
      ]
    },
    {
      "metadata": {
        "id": "BOEbfyVo_AdO",
        "colab_type": "code",
        "colab": {}
      },
      "cell_type": "code",
      "source": [
        "class Net(nn.Module):\n",
        "    def __init__(self, image_size):\n",
        "        super(Net, self).__init__()\n",
        "        self.image_size = image_size\n",
        "        self.fc1 = nn.Linear(image_size, 512)\n",
        "        self.fc2 = nn.Linear(512, 10)\n",
        "\n",
        "    def forward(self, x):\n",
        "        x = F.relu(self.fc1(x))\n",
        "        x = F.log_softmax(self.fc2(x), dim =1)\n",
        "        return x\n"
      ],
      "execution_count": 0,
      "outputs": []
    },
    {
      "metadata": {
        "id": "d5yXTbCrgzH2",
        "colab_type": "text"
      },
      "cell_type": "markdown",
      "source": [
        "## Step 4) Training\n"
      ]
    },
    {
      "metadata": {
        "id": "Ts9pWEq81AXY",
        "colab_type": "code",
        "colab": {}
      },
      "cell_type": "code",
      "source": [
        "lr=2e-2"
      ],
      "execution_count": 0,
      "outputs": []
    },
    {
      "metadata": {
        "id": "XDvNwElV1B4H",
        "colab_type": "code",
        "colab": {}
      },
      "cell_type": "code",
      "source": [
        "loss_func = nn.CrossEntropyLoss()"
      ],
      "execution_count": 0,
      "outputs": []
    },
    {
      "metadata": {
        "id": "8BHcfUh7t-Hj",
        "colab_type": "code",
        "colab": {}
      },
      "cell_type": "code",
      "source": [
        "learn = Learner(data, Net(image_size=28*28), loss_func=loss_func, metrics=accuracy)\n"
      ],
      "execution_count": 0,
      "outputs": []
    },
    {
      "metadata": {
        "id": "zIisfXh71SYb",
        "colab_type": "code",
        "outputId": "ee8be43d-8ecd-4b58-cb95-c2512b60d4f1",
        "colab": {
          "base_uri": "https://localhost:8080/",
          "height": 165
        }
      },
      "cell_type": "code",
      "source": [
        "learn.fit_one_cycle(3, 1e-2)"
      ],
      "execution_count": 0,
      "outputs": [
        {
          "output_type": "display_data",
          "data": {
            "text/html": [
              "Total time: 00:15 <p><table border=\"1\" class=\"dataframe\">\n",
              "  <thead>\n",
              "    <tr style=\"text-align: left;\">\n",
              "      <th>epoch</th>\n",
              "      <th>train_loss</th>\n",
              "      <th>valid_loss</th>\n",
              "      <th>accuracy</th>\n",
              "      <th>time</th>\n",
              "    </tr>\n",
              "  </thead>\n",
              "  <tbody>\n",
              "    <tr>\n",
              "      <td>0</td>\n",
              "      <td>0.187235</td>\n",
              "      <td>0.183770</td>\n",
              "      <td>0.944900</td>\n",
              "      <td>00:05</td>\n",
              "    </tr>\n",
              "    <tr>\n",
              "      <td>1</td>\n",
              "      <td>0.097952</td>\n",
              "      <td>0.118884</td>\n",
              "      <td>0.969300</td>\n",
              "      <td>00:05</td>\n",
              "    </tr>\n",
              "    <tr>\n",
              "      <td>2</td>\n",
              "      <td>0.040572</td>\n",
              "      <td>0.077022</td>\n",
              "      <td>0.980000</td>\n",
              "      <td>00:05</td>\n",
              "    </tr>\n",
              "  </tbody>\n",
              "</table>"
            ],
            "text/plain": [
              "<IPython.core.display.HTML object>"
            ]
          },
          "metadata": {
            "tags": []
          }
        }
      ]
    },
    {
      "metadata": {
        "id": "8SCyALuz6GlP",
        "colab_type": "code",
        "outputId": "c432a97f-836c-49e0-f171-07ed86a0b8cc",
        "colab": {
          "base_uri": "https://localhost:8080/",
          "height": 279
        }
      },
      "cell_type": "code",
      "source": [
        "learn.recorder.plot_losses()"
      ],
      "execution_count": 0,
      "outputs": [
        {
          "output_type": "display_data",
          "data": {
            "image/png": "[encoded data removed]",
            "text/plain": [
              "<Figure size 432x288 with 1 Axes>"
            ]
          },
          "metadata": {
            "tags": []
          }
        }
      ]
    }
  ]
}